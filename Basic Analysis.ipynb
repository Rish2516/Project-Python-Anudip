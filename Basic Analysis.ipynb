{
 "cells": [
  {
   "cell_type": "markdown",
   "metadata": {},
   "source": [
    "**Basic Analysis: Exploring the Netflix Dataset**\n",
    "\n",
    "This serves as the second part of the Netflix data analysis project. \n",
    "\n",
    "Following the data cleaning phase, we now focus on extracting insights using Numpy and Pandas. The analysis encompasses:\n",
    "\n",
    "1. **Distribution of Content Types** \n",
    "Analyzing the breakdown of movies versus TV shows in the dataset.\n",
    "\n",
    "2. **Frequent Directors** \n",
    "Identifying the directors with the highest number of productions.\n",
    "\n",
    "3. **Movie Durations**\n",
    "Calculating total, average, maximum, and minimum durations of movies.\n",
    "\n",
    "4. **Country Productions** \n",
    "Determining which countries have the most and least Netflix productions.\n",
    "\n",
    "5. **Release Dates and Years** \n",
    "Analyzing the trends in release dates and years.\n",
    "\n",
    "6. **Keyword Occurrences** \n",
    "Counting how often specific keywords appear in the descriptions, such as \"murder\", \"comedy\", and \"love\".\n",
    "\n",
    "This analysis aims to provide a deeper understanding of the dataset and lays the groundwork for further visualization and insights."
   ]
  },
  {
   "cell_type": "code",
   "execution_count": 17,
   "metadata": {},
   "outputs": [],
   "source": [
    "import numpy as np\n",
    "import pandas as pd \n",
    "\n",
    "#importing the dataset\n",
    "data = pd.read_csv(\"C:/Users/HP/Desktop/ANUDIP/Python/Project Python Anudip/cleaned_netflix_database_Anudip.csv\")"
   ]
  },
  {
   "cell_type": "markdown",
   "metadata": {},
   "source": [
    "*Distribution of Content Types*"
   ]
  },
  {
   "cell_type": "code",
   "execution_count": 18,
   "metadata": {},
   "outputs": [
    {
     "data": {
      "text/plain": [
       "type\n",
       "Movie      6131\n",
       "TV Show    2676\n",
       "Name: count, dtype: int64"
      ]
     },
     "execution_count": 18,
     "metadata": {},
     "output_type": "execute_result"
    }
   ],
   "source": [
    "#Data analysis using Numpy of Column name \"type\"\n",
    "data['type'].value_counts()"
   ]
  },
  {
   "cell_type": "markdown",
   "metadata": {},
   "source": [
    "*By analyzing the distribution of content types, stakeholders can gain insights into the composition of the Netflix library.*"
   ]
  },
  {
   "cell_type": "markdown",
   "metadata": {},
   "source": [
    "*Most Frequent Director*"
   ]
  },
  {
   "cell_type": "code",
   "execution_count": 19,
   "metadata": {},
   "outputs": [
    {
     "name": "stdout",
     "output_type": "stream",
     "text": [
      "The director with the most movies is: Unknown with 2634 occurrences.\n",
      "The director with the second most movies is: Rajiv Chilaka with 19 occurrences.\n"
     ]
    }
   ],
   "source": [
    "# Get the director who appears the most frequently\n",
    "most_frequent_director = data['director'].value_counts().idxmax()\n",
    "\n",
    "# Get the actual count of occurrences\n",
    "max_occurrences = data['director'].value_counts().max()\n",
    "\n",
    "print(f\"The director with the most movies is: {most_frequent_director} with {max_occurrences} occurrences.\")\n",
    "\n",
    "#Getting Director with 2nd highest occurance\n",
    "# Get the frequency of each director\n",
    "director_counts = data['director'].value_counts()\n",
    "\n",
    "# Get the director with the second highest number of occurrences\n",
    "second_highest_director = director_counts.index[1]\n",
    "second_highest_count = director_counts.iloc[1]\n",
    "\n",
    "print(f\"The director with the second most movies is: {second_highest_director} with {second_highest_count} occurrences.\")"
   ]
  },
  {
   "cell_type": "markdown",
   "metadata": {},
   "source": [
    "*The analysis identifies the director with the highest number of movies. This insight can highlight key contributors to the Netflix library and inform content acquisition strategies.*"
   ]
  },
  {
   "cell_type": "markdown",
   "metadata": {},
   "source": [
    "*Second Most Frequent Director*"
   ]
  },
  {
   "cell_type": "code",
   "execution_count": 20,
   "metadata": {},
   "outputs": [
    {
     "name": "stdout",
     "output_type": "stream",
     "text": [
      "director\n",
      "Unknown                   2634\n",
      "Rajiv Chilaka               19\n",
      "Raúl Campos, Jan Suter      18\n",
      "Suhas Kadav                 16\n",
      "Marcus Raboy                16\n",
      "Name: count, dtype: int64\n"
     ]
    }
   ],
   "source": [
    "max_occurrences = data['director'].value_counts()\n",
    "print(max_occurrences.head(5))"
   ]
  },
  {
   "cell_type": "markdown",
   "metadata": {},
   "source": [
    "*This query finds the director with the second highest number of movies, providing additional context on popular filmmakers in the dataset.*"
   ]
  },
  {
   "cell_type": "markdown",
   "metadata": {},
   "source": [
    "*Highest vs Lowest Ratings*"
   ]
  },
  {
   "cell_type": "code",
   "execution_count": 21,
   "metadata": {},
   "outputs": [
    {
     "name": "stdout",
     "output_type": "stream",
     "text": [
      "Highest 5 ratings\n",
      "rating\n",
      "TV-MA    3214\n",
      "TV-14    2160\n",
      "TV-PG     863\n",
      "R         799\n",
      "PG-13     490\n",
      "Name: count, dtype: int64\n",
      "Lowest Ratings\n",
      "rating\n",
      "NR          80\n",
      "G           41\n",
      "TV-Y7-FV     6\n",
      "NC-17        3\n",
      "UR           3\n",
      "Name: count, dtype: int64\n"
     ]
    }
   ],
   "source": [
    "print(\"Highest 5 ratings\")\n",
    "print(data['rating'].value_counts().head(5))\n",
    "\n",
    "print(\"Lowest Ratings\")\n",
    "print(data['rating'].value_counts().tail(5))"
   ]
  },
  {
   "cell_type": "markdown",
   "metadata": {},
   "source": [
    "*The analysis of the rating column shows the top five ratings, indicating which content is rated the highest by viewers. This can guide recommendations and marketing efforts.*\n",
    "\n",
    "*Similar to the highest ratings, this query identifies the lowest ratings, which can help in understanding viewer dissatisfaction and areas for improvement.*"
   ]
  },
  {
   "cell_type": "markdown",
   "metadata": {},
   "source": [
    "*Analysis of duration of movies*"
   ]
  },
  {
   "cell_type": "code",
   "execution_count": 22,
   "metadata": {},
   "outputs": [
    {
     "name": "stdout",
     "output_type": "stream",
     "text": [
      "Total duration of Movies is: 610209.0 mins\n",
      "\n",
      "Average duration of movies is: 99.57718668407311 mins\n",
      "\n",
      "Maximum duration of Movies is: 312.0 mins with movie name Black Mirror: Bandersnatch\n",
      "\n",
      "Minimum duration of Movies is: 3.0 mins with movie name Silent\n"
     ]
    }
   ],
   "source": [
    "#Data analysis using Numpy of Column name Movies\n",
    "\n",
    "# 1.Total duration of Movies\n",
    "total_Movies_duration = sum(data['Duration_Movies'].dropna())\n",
    "print(f'Total duration of Movies is: {total_Movies_duration} mins')\n",
    "\n",
    "# 2.Average duration of Movies\n",
    "Avg_Movies_duration = np.mean(data['Duration_Movies'].dropna())\n",
    "print(f'\\nAverage duration of movies is: {Avg_Movies_duration} mins')\n",
    "\n",
    "#3. Maximum duration of Movies\n",
    "print(f'\\nMaximum duration of Movies is: {data[\"Duration_Movies\"].max()} mins with movie name {data.loc[data[\"Duration_Movies\"].idxmax()][\"title\"]}')\n",
    "\n",
    "#4. Minimum duration of Movies\n",
    "print(f'\\nMinimum duration of Movies is: {data[\"Duration_Movies\"].min()} mins with movie name {data.loc[data[\"Duration_Movies\"].idxmin()][\"title\"]}')"
   ]
  },
  {
   "cell_type": "markdown",
   "metadata": {},
   "source": [
    "- Total Duration of Movies: *This query calculates the total duration of all movies in the dataset, providing insight into the overall content length available for viewing.*\n",
    "\n",
    "- Average Duration of Movies: *The average duration gives an idea of how long movies typically are, which can be useful for understanding viewer engagement and preferences.*\n",
    "\n",
    "- Maximum Duration of Movies: *Identifying the longest movie in the dataset can highlight outliers and inform content strategy regarding longer formats.*\n",
    "\n",
    "- Minimum Duration of Movies: *This query finds the shortest movie, which can be useful for understanding the range of content lengths available.*"
   ]
  },
  {
   "cell_type": "markdown",
   "metadata": {},
   "source": [
    "*Countries with Most and least Netflix Productions*"
   ]
  },
  {
   "cell_type": "code",
   "execution_count": 23,
   "metadata": {},
   "outputs": [
    {
     "name": "stdout",
     "output_type": "stream",
     "text": [
      "Country with most Netflix Productions\n",
      "country\n",
      "United States     3649\n",
      "India              972\n",
      "United Kingdom     419\n",
      "Japan              245\n",
      "South Korea        199\n",
      "Name: count, dtype: int64\n",
      "\n",
      "Country with lowest Netflix Productions\n",
      "country\n",
      "Russia, Spain                                    1\n",
      "Croatia, Slovenia, Serbia, Montenegro            1\n",
      "Japan, Canada                                    1\n",
      "United States, France, South Korea, Indonesia    1\n",
      "Canada, Mexico, Germany, South Africa            1\n",
      "Name: count, dtype: int64\n"
     ]
    }
   ],
   "source": [
    "print(\"Country with most Netflix Productions\")\n",
    "print(data['country'].value_counts().head(5))\n",
    "\n",
    "print(\"\\nCountry with lowest Netflix Productions\")\n",
    "print(data['country'].value_counts().tail(5))"
   ]
  },
  {
   "cell_type": "markdown",
   "metadata": {},
   "source": [
    "- Highest: *The analysis shows which countries produce the most content for Netflix, indicating regional strengths and potential markets for expansion.*\n",
    "\n",
    "- Lowest: *This insight identifies countries with minimal representation, which could be targets for future content development.*"
   ]
  },
  {
   "cell_type": "markdown",
   "metadata": {},
   "source": [
    "*Dates with Highest and lowest Releases*"
   ]
  },
  {
   "cell_type": "code",
   "execution_count": 24,
   "metadata": {},
   "outputs": [
    {
     "name": "stdout",
     "output_type": "stream",
     "text": [
      "Date with highest releases\n",
      "date_added\n",
      "1/1/2020      120\n",
      "11/1/2019      91\n",
      "3/1/2018       75\n",
      "12/31/2019     74\n",
      "10/1/2018      71\n",
      "Name: count, dtype: int64\n",
      "\n",
      "Date with lowest releases\n",
      "date_added\n",
      "1/11/2020    1\n",
      "9/4/2021     1\n",
      "8/21/2021    1\n",
      "4/20/2017    1\n",
      "4/26/2017    1\n",
      "Name: count, dtype: int64\n"
     ]
    }
   ],
   "source": [
    "print(\"Date with highest releases\")\n",
    "print(data['date_added'].value_counts().nlargest())\n",
    "\n",
    "print(\"\\nDate with lowest releases\")\n",
    "print(data['date_added'].value_counts().nsmallest())"
   ]
  },
  {
   "cell_type": "markdown",
   "metadata": {},
   "source": [
    "- Highest Releases: *This query reveals which dates had the most content added, helping to identify trends in release strategies.*\n",
    "\n",
    "- Lowest Releases: *Understanding when the least content is released can inform scheduling and marketing efforts.*"
   ]
  },
  {
   "cell_type": "markdown",
   "metadata": {},
   "source": [
    "*Years with Highest and lowest Number of Releases*"
   ]
  },
  {
   "cell_type": "code",
   "execution_count": 25,
   "metadata": {},
   "outputs": [
    {
     "name": "stdout",
     "output_type": "stream",
     "text": [
      "Year with highest number of releases\n",
      "release_year\n",
      "2018    1147\n",
      "2017    1032\n",
      "2019    1030\n",
      "2020     953\n",
      "2016     902\n",
      "Name: count, dtype: int64\n",
      "\n",
      "Year with lowest number of releases\n",
      "release_year\n",
      "1961    1\n",
      "1925    1\n",
      "1959    1\n",
      "1966    1\n",
      "1947    1\n",
      "Name: count, dtype: int64\n"
     ]
    }
   ],
   "source": [
    "print(\"Year with highest number of releases\")\n",
    "print(data['release_year'].value_counts().nlargest())\n",
    "\n",
    "print(\"\\nYear with lowest number of releases\")\n",
    "print(data['release_year'].value_counts().nsmallest())"
   ]
  },
  {
   "cell_type": "markdown",
   "metadata": {},
   "source": [
    "- Highest Year : *This analysis shows which years had the most content added, indicating growth trends in Netflix's library.*\n",
    "\n",
    "- Lowest Year: *Identifying years with fewer releases can help understand historical content strategies and market conditions.*"
   ]
  },
  {
   "cell_type": "markdown",
   "metadata": {},
   "source": [
    "*Monthly Content Addition*"
   ]
  },
  {
   "cell_type": "code",
   "execution_count": 26,
   "metadata": {},
   "outputs": [
    {
     "name": "stdout",
     "output_type": "stream",
     "text": [
      "type        Movie  TV Show\n",
      "date_added                \n",
      "April         550      214\n",
      "August        519      236\n",
      "December      547      266\n",
      "February      382      181\n",
      "January       546      202\n",
      "July          565      262\n",
      "June          492      236\n",
      "March         529      213\n",
      "May           439      193\n",
      "November      498      207\n",
      "October       545      215\n",
      "September     519      251\n"
     ]
    }
   ],
   "source": [
    "#extracted month name\n",
    "Month_added = pd.to_datetime(data['date_added']).dt.month_name()\n",
    "\n",
    "#counting months \n",
    "month_counts = Month_added[data['type'] == 'TV Show'].value_counts()\n",
    "# Extract month name and count\n",
    "Month_added = pd.to_datetime(data['date_added']).dt.month_name()\n",
    "\n",
    "# Create a pivot table with month counts\n",
    "pivot_table = pd.pivot_table(data=data, index=Month_added, columns='type',aggfunc='size', fill_value=0)\n",
    "print(pivot_table)"
   ]
  },
  {
   "cell_type": "markdown",
   "metadata": {},
   "source": [
    "*The pivot table created from the month counts provides insights into seasonal trends in content addition, which can inform future release strategies.*"
   ]
  },
  {
   "cell_type": "markdown",
   "metadata": {},
   "source": [
    "*Keyword Occurrences in Descriptions*"
   ]
  },
  {
   "cell_type": "code",
   "execution_count": 27,
   "metadata": {},
   "outputs": [
    {
     "name": "stdout",
     "output_type": "stream",
     "text": [
      "Total number of description containing the keyword 'murder': 291\n"
     ]
    }
   ],
   "source": [
    "# Check if the 'description' column contains the keyword 'murder'\n",
    "contains_murder = data['description'].str.contains('murder', case=False, na=False)\n",
    "\n",
    "# Count the number of rows that contain the keyword 'murder'\n",
    "murder_count = contains_murder.sum()\n",
    "\n",
    "print(f\"Total number of description containing the keyword 'murder': {murder_count}\")"
   ]
  },
  {
   "cell_type": "code",
   "execution_count": 28,
   "metadata": {},
   "outputs": [
    {
     "name": "stdout",
     "output_type": "stream",
     "text": [
      "Total number of descriptions containing the keyword 'comedy' or 'funny': 216\n"
     ]
    }
   ],
   "source": [
    "# Check if the 'description' column contains the keyword 'murder'\n",
    "contains_comedy = data['description'].str.contains('comedy|funny', case=False, na=False)\n",
    "\n",
    "# Count the number of rows that contain the keyword 'murder'\n",
    "comedy_count = contains_comedy.sum()\n",
    "\n",
    "print(f\"Total number of descriptions containing the keyword 'comedy' or 'funny': {comedy_count}\")"
   ]
  },
  {
   "cell_type": "code",
   "execution_count": 29,
   "metadata": {},
   "outputs": [
    {
     "name": "stdout",
     "output_type": "stream",
     "text": [
      "Total number of descriptions containing the keyword 'love': 704\n"
     ]
    }
   ],
   "source": [
    "# Check if the 'description' column contains the keyword 'murder'\n",
    "contains_love = data['description'].str.contains('love', case=False, na=False)\n",
    "\n",
    "# Count the number of rows that contain the keyword 'murder'\n",
    "love_count = contains_love.sum()\n",
    "\n",
    "print(f\"Total number of descriptions containing the keyword 'love': {love_count}\")"
   ]
  },
  {
   "cell_type": "markdown",
   "metadata": {},
   "source": [
    "*The analysis counts how many descriptions contain specific keywords (e.g., \"murder\", \"comedy\", \"love\"), providing insights into thematic trends and viewer interests.*"
   ]
  }
 ],
 "metadata": {
  "kernelspec": {
   "display_name": "Python 3",
   "language": "python",
   "name": "python3"
  },
  "language_info": {
   "codemirror_mode": {
    "name": "ipython",
    "version": 3
   },
   "file_extension": ".py",
   "mimetype": "text/x-python",
   "name": "python",
   "nbconvert_exporter": "python",
   "pygments_lexer": "ipython3",
   "version": "3.12.5"
  }
 },
 "nbformat": 4,
 "nbformat_minor": 2
}
